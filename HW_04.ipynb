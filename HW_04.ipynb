{
 "cells": [
  {
   "cell_type": "code",
   "execution_count": 1,
   "metadata": {},
   "outputs": [],
   "source": [
    "from pymorphy2 import MorphAnalyzer\n",
    "from stop_words import get_stop_words\n",
    "from string import punctuation\n",
    "\n",
    "import re\n",
    "import pickle\n",
    "import os\n",
    "\n",
    "import pandas as pd\n",
    "import numpy as np\n",
    "\n",
    "from sklearn.linear_model import LogisticRegression\n",
    "from sklearn.feature_extraction.text import HashingVectorizer, TfidfVectorizer, CountVectorizer\n",
    "from sklearn.ensemble import RandomForestClassifier\n",
    "from sklearn.model_selection import train_test_split\n",
    "from sklearn.metrics import roc_auc_score\n",
    "\n",
    "import pyLDAvis.gensim\n",
    "import pyLDAvis\n",
    "\n",
    "import gensim\n",
    "from gensim.models import LsiModel, LdaModel\n",
    "from gensim import corpora"
   ]
  },
  {
   "cell_type": "code",
   "execution_count": 2,
   "metadata": {},
   "outputs": [],
   "source": [
    "data = pd.read_excel(\"отзывы за лето.xls\")"
   ]
  },
  {
   "cell_type": "code",
   "execution_count": 3,
   "metadata": {},
   "outputs": [
    {
     "data": {
      "text/html": [
       "<div>\n",
       "<style scoped>\n",
       "    .dataframe tbody tr th:only-of-type {\n",
       "        vertical-align: middle;\n",
       "    }\n",
       "\n",
       "    .dataframe tbody tr th {\n",
       "        vertical-align: top;\n",
       "    }\n",
       "\n",
       "    .dataframe thead th {\n",
       "        text-align: right;\n",
       "    }\n",
       "</style>\n",
       "<table border=\"1\" class=\"dataframe\">\n",
       "  <thead>\n",
       "    <tr style=\"text-align: right;\">\n",
       "      <th></th>\n",
       "      <th>Rating</th>\n",
       "      <th>Content</th>\n",
       "      <th>Date</th>\n",
       "    </tr>\n",
       "  </thead>\n",
       "  <tbody>\n",
       "    <tr>\n",
       "      <th>0</th>\n",
       "      <td>5</td>\n",
       "      <td>It just works!</td>\n",
       "      <td>2017-08-14</td>\n",
       "    </tr>\n",
       "    <tr>\n",
       "      <th>1</th>\n",
       "      <td>4</td>\n",
       "      <td>В целом удобноное приложение...из минусов хотя...</td>\n",
       "      <td>2017-08-14</td>\n",
       "    </tr>\n",
       "    <tr>\n",
       "      <th>2</th>\n",
       "      <td>5</td>\n",
       "      <td>Отлично все</td>\n",
       "      <td>2017-08-14</td>\n",
       "    </tr>\n",
       "    <tr>\n",
       "      <th>3</th>\n",
       "      <td>5</td>\n",
       "      <td>Стал зависать на 1% работы антивируса. Дальше ...</td>\n",
       "      <td>2017-08-14</td>\n",
       "    </tr>\n",
       "    <tr>\n",
       "      <th>4</th>\n",
       "      <td>5</td>\n",
       "      <td>Очень удобно, работает быстро.</td>\n",
       "      <td>2017-08-14</td>\n",
       "    </tr>\n",
       "  </tbody>\n",
       "</table>\n",
       "</div>"
      ],
      "text/plain": [
       "   Rating                                            Content        Date\n",
       "0       5                                     It just works!  2017-08-14\n",
       "1       4  В целом удобноное приложение...из минусов хотя...  2017-08-14\n",
       "2       5                                        Отлично все  2017-08-14\n",
       "3       5  Стал зависать на 1% работы антивируса. Дальше ...  2017-08-14\n",
       "4       5                     Очень удобно, работает быстро.  2017-08-14"
      ]
     },
     "execution_count": 3,
     "metadata": {},
     "output_type": "execute_result"
    }
   ],
   "source": [
    "data.head()"
   ]
  },
  {
   "cell_type": "code",
   "execution_count": 4,
   "metadata": {},
   "outputs": [],
   "source": [
    "\n",
    "exclude = set(punctuation)\n",
    "sw = set(get_stop_words(\"ru\"))\n",
    "morpher = MorphAnalyzer()\n",
    "\n",
    "def preprocess_text(txt):\n",
    "    txt = str(txt)\n",
    "    txt = \"\".join(c for c in txt if c not in exclude)\n",
    "    txt = txt.lower()\n",
    "    txt = re.sub(\"\\sне\", \"не\", txt)\n",
    "    txt = [morpher.parse(word)[0].normal_form for word in txt.split() if word not in sw]\n",
    "    return \" \".join(txt)\n",
    "\n",
    "data['text'] = data['Content'].apply(preprocess_text)\n",
    "data = data[data['Rating'] != 3]\n",
    "data['target'] = data['Rating'] > 3"
   ]
  },
  {
   "cell_type": "code",
   "execution_count": 5,
   "metadata": {},
   "outputs": [
    {
     "data": {
      "text/html": [
       "<div>\n",
       "<style scoped>\n",
       "    .dataframe tbody tr th:only-of-type {\n",
       "        vertical-align: middle;\n",
       "    }\n",
       "\n",
       "    .dataframe tbody tr th {\n",
       "        vertical-align: top;\n",
       "    }\n",
       "\n",
       "    .dataframe thead th {\n",
       "        text-align: right;\n",
       "    }\n",
       "</style>\n",
       "<table border=\"1\" class=\"dataframe\">\n",
       "  <thead>\n",
       "    <tr style=\"text-align: right;\">\n",
       "      <th></th>\n",
       "      <th>Rating</th>\n",
       "      <th>Content</th>\n",
       "      <th>Date</th>\n",
       "      <th>text</th>\n",
       "      <th>target</th>\n",
       "    </tr>\n",
       "  </thead>\n",
       "  <tbody>\n",
       "    <tr>\n",
       "      <th>0</th>\n",
       "      <td>5</td>\n",
       "      <td>It just works!</td>\n",
       "      <td>2017-08-14</td>\n",
       "      <td>it just works</td>\n",
       "      <td>1</td>\n",
       "    </tr>\n",
       "    <tr>\n",
       "      <th>1</th>\n",
       "      <td>4</td>\n",
       "      <td>В целом удобноное приложение...из минусов хотя...</td>\n",
       "      <td>2017-08-14</td>\n",
       "      <td>целое удобноной приложениеиз минус хотеть боль...</td>\n",
       "      <td>1</td>\n",
       "    </tr>\n",
       "    <tr>\n",
       "      <th>2</th>\n",
       "      <td>5</td>\n",
       "      <td>Отлично все</td>\n",
       "      <td>2017-08-14</td>\n",
       "      <td>отлично</td>\n",
       "      <td>1</td>\n",
       "    </tr>\n",
       "    <tr>\n",
       "      <th>3</th>\n",
       "      <td>5</td>\n",
       "      <td>Стал зависать на 1% работы антивируса. Дальше ...</td>\n",
       "      <td>2017-08-14</td>\n",
       "      <td>зависать 1 работа антивирус ранее пользоваться...</td>\n",
       "      <td>1</td>\n",
       "    </tr>\n",
       "    <tr>\n",
       "      <th>4</th>\n",
       "      <td>5</td>\n",
       "      <td>Очень удобно, работает быстро.</td>\n",
       "      <td>2017-08-14</td>\n",
       "      <td>удобно работать быстро</td>\n",
       "      <td>1</td>\n",
       "    </tr>\n",
       "  </tbody>\n",
       "</table>\n",
       "</div>"
      ],
      "text/plain": [
       "   Rating                                            Content        Date  \\\n",
       "0       5                                     It just works!  2017-08-14   \n",
       "1       4  В целом удобноное приложение...из минусов хотя...  2017-08-14   \n",
       "2       5                                        Отлично все  2017-08-14   \n",
       "3       5  Стал зависать на 1% работы антивируса. Дальше ...  2017-08-14   \n",
       "4       5                     Очень удобно, работает быстро.  2017-08-14   \n",
       "\n",
       "                                                text  target  \n",
       "0                                      it just works       1  \n",
       "1  целое удобноной приложениеиз минус хотеть боль...       1  \n",
       "2                                            отлично       1  \n",
       "3  зависать 1 работа антивирус ранее пользоваться...       1  \n",
       "4                             удобно работать быстро       1  "
      ]
     },
     "execution_count": 5,
     "metadata": {},
     "output_type": "execute_result"
    }
   ],
   "source": [
    "data['target'] = data['target'].astype(int)\n",
    "data.head()"
   ]
  },
  {
   "cell_type": "code",
   "execution_count": 6,
   "metadata": {},
   "outputs": [
    {
     "data": {
      "text/html": [
       "<div>\n",
       "<style scoped>\n",
       "    .dataframe tbody tr th:only-of-type {\n",
       "        vertical-align: middle;\n",
       "    }\n",
       "\n",
       "    .dataframe tbody tr th {\n",
       "        vertical-align: top;\n",
       "    }\n",
       "\n",
       "    .dataframe thead th {\n",
       "        text-align: right;\n",
       "    }\n",
       "</style>\n",
       "<table border=\"1\" class=\"dataframe\">\n",
       "  <thead>\n",
       "    <tr style=\"text-align: right;\">\n",
       "      <th></th>\n",
       "      <th>Rating</th>\n",
       "      <th>Content</th>\n",
       "      <th>Date</th>\n",
       "      <th>text</th>\n",
       "      <th>target</th>\n",
       "    </tr>\n",
       "  </thead>\n",
       "  <tbody>\n",
       "    <tr>\n",
       "      <th>0</th>\n",
       "      <td>5</td>\n",
       "      <td>It just works!</td>\n",
       "      <td>2017-08-14</td>\n",
       "      <td>it just works</td>\n",
       "      <td>1</td>\n",
       "    </tr>\n",
       "    <tr>\n",
       "      <th>1</th>\n",
       "      <td>4</td>\n",
       "      <td>В целом удобноное приложение...из минусов хотя...</td>\n",
       "      <td>2017-08-14</td>\n",
       "      <td>целое удобноной приложениеиз минус хотеть боль...</td>\n",
       "      <td>1</td>\n",
       "    </tr>\n",
       "    <tr>\n",
       "      <th>2</th>\n",
       "      <td>5</td>\n",
       "      <td>Отлично все</td>\n",
       "      <td>2017-08-14</td>\n",
       "      <td>отлично</td>\n",
       "      <td>1</td>\n",
       "    </tr>\n",
       "    <tr>\n",
       "      <th>3</th>\n",
       "      <td>5</td>\n",
       "      <td>Стал зависать на 1% работы антивируса. Дальше ...</td>\n",
       "      <td>2017-08-14</td>\n",
       "      <td>зависать 1 работа антивирус ранее пользоваться...</td>\n",
       "      <td>1</td>\n",
       "    </tr>\n",
       "    <tr>\n",
       "      <th>4</th>\n",
       "      <td>5</td>\n",
       "      <td>Очень удобно, работает быстро.</td>\n",
       "      <td>2017-08-14</td>\n",
       "      <td>удобно работать быстро</td>\n",
       "      <td>1</td>\n",
       "    </tr>\n",
       "  </tbody>\n",
       "</table>\n",
       "</div>"
      ],
      "text/plain": [
       "   Rating                                            Content        Date  \\\n",
       "0       5                                     It just works!  2017-08-14   \n",
       "1       4  В целом удобноное приложение...из минусов хотя...  2017-08-14   \n",
       "2       5                                        Отлично все  2017-08-14   \n",
       "3       5  Стал зависать на 1% работы антивируса. Дальше ...  2017-08-14   \n",
       "4       5                     Очень удобно, работает быстро.  2017-08-14   \n",
       "\n",
       "                                                text  target  \n",
       "0                                      it just works       1  \n",
       "1  целое удобноной приложениеиз минус хотеть боль...       1  \n",
       "2                                            отлично       1  \n",
       "3  зависать 1 работа антивирус ранее пользоваться...       1  \n",
       "4                             удобно работать быстро       1  "
      ]
     },
     "execution_count": 6,
     "metadata": {},
     "output_type": "execute_result"
    }
   ],
   "source": [
    "data['target'] = data['target'].astype(int)\n",
    "data.head()"
   ]
  },
  {
   "cell_type": "code",
   "execution_count": 7,
   "metadata": {},
   "outputs": [],
   "source": [
    "X_train, X_test, y_train, y_test = train_test_split(data['text'], data['target'], test_size=0.2,\n",
    "                                                    random_state=13, stratify=data['target'])"
   ]
  },
  {
   "cell_type": "code",
   "execution_count": 8,
   "metadata": {},
   "outputs": [
    {
     "data": {
      "text/plain": [
       "array(['классно', 'невозможно использовать рутованный телефон',\n",
       "       'работать нарекание', ..., 'удобно', 'супер', ''], dtype=object)"
      ]
     },
     "execution_count": 8,
     "metadata": {},
     "output_type": "execute_result"
    }
   ],
   "source": [
    "X_train.values"
   ]
  },
  {
   "cell_type": "code",
   "execution_count": 9,
   "metadata": {},
   "outputs": [],
   "source": [
    "count_vect = CountVectorizer().fit(X_train.values)"
   ]
  },
  {
   "cell_type": "code",
   "execution_count": 10,
   "metadata": {},
   "outputs": [],
   "source": [
    "xtrain = count_vect.transform(X_train)\n",
    "xtest = count_vect.transform(X_test)"
   ]
  },
  {
   "cell_type": "code",
   "execution_count": 11,
   "metadata": {},
   "outputs": [
    {
     "data": {
      "text/plain": [
       "<15798x10740 sparse matrix of type '<class 'numpy.int64'>'\n",
       "\twith 71615 stored elements in Compressed Sparse Row format>"
      ]
     },
     "execution_count": 11,
     "metadata": {},
     "output_type": "execute_result"
    }
   ],
   "source": [
    "xtrain"
   ]
  },
  {
   "cell_type": "markdown",
   "metadata": {
    "slideshow": {
     "slide_type": "notes"
    }
   },
   "source": [
    "### Логистическая регрессия"
   ]
  },
  {
   "cell_type": "code",
   "execution_count": 12,
   "metadata": {},
   "outputs": [],
   "source": [
    "lr = LogisticRegression(class_weight=\"balanced\").fit(xtrain, y_train)"
   ]
  },
  {
   "cell_type": "code",
   "execution_count": 13,
   "metadata": {},
   "outputs": [
    {
     "data": {
      "text/plain": [
       "0.9589699687457534"
      ]
     },
     "execution_count": 13,
     "metadata": {},
     "output_type": "execute_result"
    }
   ],
   "source": [
    "roc_auc_score(y_test, lr.predict_proba(xtest)[:, 1])"
   ]
  },
  {
   "cell_type": "markdown",
   "metadata": {},
   "source": [
    "### Random Forest"
   ]
  },
  {
   "cell_type": "code",
   "execution_count": 14,
   "metadata": {},
   "outputs": [],
   "source": [
    "rfc = RandomForestClassifier().fit(xtrain, y_train)"
   ]
  },
  {
   "cell_type": "code",
   "execution_count": 15,
   "metadata": {},
   "outputs": [],
   "source": [
    "# построим большой ансамбль\n",
    "rfc_big = RandomForestClassifier(n_estimators=10000, n_jobs=-1).fit(xtrain, y_train)"
   ]
  },
  {
   "cell_type": "code",
   "execution_count": 16,
   "metadata": {},
   "outputs": [
    {
     "data": {
      "text/plain": [
       "0.9575960172454261"
      ]
     },
     "execution_count": 16,
     "metadata": {},
     "output_type": "execute_result"
    }
   ],
   "source": [
    "roc_auc_score(y_test, rfc.predict_proba(xtest)[:, 1])"
   ]
  },
  {
   "cell_type": "code",
   "execution_count": 17,
   "metadata": {},
   "outputs": [
    {
     "data": {
      "text/plain": [
       "0.9593665147191441"
      ]
     },
     "execution_count": 17,
     "metadata": {},
     "output_type": "execute_result"
    }
   ],
   "source": [
    "roc_auc_score(y_test, rfc_big.predict_proba(xtest)[:, 1])\n",
    "# как видим метрика чуть чуть стала получше, но переобучение не наступило"
   ]
  },
  {
   "cell_type": "markdown",
   "metadata": {},
   "source": [
    "### Добавление признаков"
   ]
  },
  {
   "cell_type": "code",
   "execution_count": 18,
   "metadata": {},
   "outputs": [
    {
     "data": {
      "text/html": [
       "<div>\n",
       "<style scoped>\n",
       "    .dataframe tbody tr th:only-of-type {\n",
       "        vertical-align: middle;\n",
       "    }\n",
       "\n",
       "    .dataframe tbody tr th {\n",
       "        vertical-align: top;\n",
       "    }\n",
       "\n",
       "    .dataframe thead th {\n",
       "        text-align: right;\n",
       "    }\n",
       "</style>\n",
       "<table border=\"1\" class=\"dataframe\">\n",
       "  <thead>\n",
       "    <tr style=\"text-align: right;\">\n",
       "      <th></th>\n",
       "      <th>Rating</th>\n",
       "      <th>Content</th>\n",
       "      <th>Date</th>\n",
       "      <th>text</th>\n",
       "      <th>target</th>\n",
       "    </tr>\n",
       "  </thead>\n",
       "  <tbody>\n",
       "    <tr>\n",
       "      <th>0</th>\n",
       "      <td>5</td>\n",
       "      <td>It just works!</td>\n",
       "      <td>2017-08-14</td>\n",
       "      <td>it just works</td>\n",
       "      <td>1</td>\n",
       "    </tr>\n",
       "    <tr>\n",
       "      <th>1</th>\n",
       "      <td>4</td>\n",
       "      <td>В целом удобноное приложение...из минусов хотя...</td>\n",
       "      <td>2017-08-14</td>\n",
       "      <td>целое удобноной приложениеиз минус хотеть боль...</td>\n",
       "      <td>1</td>\n",
       "    </tr>\n",
       "    <tr>\n",
       "      <th>2</th>\n",
       "      <td>5</td>\n",
       "      <td>Отлично все</td>\n",
       "      <td>2017-08-14</td>\n",
       "      <td>отлично</td>\n",
       "      <td>1</td>\n",
       "    </tr>\n",
       "    <tr>\n",
       "      <th>3</th>\n",
       "      <td>5</td>\n",
       "      <td>Стал зависать на 1% работы антивируса. Дальше ...</td>\n",
       "      <td>2017-08-14</td>\n",
       "      <td>зависать 1 работа антивирус ранее пользоваться...</td>\n",
       "      <td>1</td>\n",
       "    </tr>\n",
       "    <tr>\n",
       "      <th>4</th>\n",
       "      <td>5</td>\n",
       "      <td>Очень удобно, работает быстро.</td>\n",
       "      <td>2017-08-14</td>\n",
       "      <td>удобно работать быстро</td>\n",
       "      <td>1</td>\n",
       "    </tr>\n",
       "  </tbody>\n",
       "</table>\n",
       "</div>"
      ],
      "text/plain": [
       "   Rating                                            Content        Date  \\\n",
       "0       5                                     It just works!  2017-08-14   \n",
       "1       4  В целом удобноное приложение...из минусов хотя...  2017-08-14   \n",
       "2       5                                        Отлично все  2017-08-14   \n",
       "3       5  Стал зависать на 1% работы антивируса. Дальше ...  2017-08-14   \n",
       "4       5                     Очень удобно, работает быстро.  2017-08-14   \n",
       "\n",
       "                                                text  target  \n",
       "0                                      it just works       1  \n",
       "1  целое удобноной приложениеиз минус хотеть боль...       1  \n",
       "2                                            отлично       1  \n",
       "3  зависать 1 работа антивирус ранее пользоваться...       1  \n",
       "4                             удобно работать быстро       1  "
      ]
     },
     "execution_count": 18,
     "metadata": {},
     "output_type": "execute_result"
    }
   ],
   "source": [
    "data.head()"
   ]
  },
  {
   "cell_type": "markdown",
   "metadata": {},
   "source": [
    "количество слов в отзыве"
   ]
  },
  {
   "cell_type": "code",
   "execution_count": 19,
   "metadata": {},
   "outputs": [],
   "source": [
    "data['word_count'] = data['text'].apply(lambda x: len(x.split()))"
   ]
  },
  {
   "cell_type": "code",
   "execution_count": 20,
   "metadata": {},
   "outputs": [
    {
     "data": {
      "text/html": [
       "<div>\n",
       "<style scoped>\n",
       "    .dataframe tbody tr th:only-of-type {\n",
       "        vertical-align: middle;\n",
       "    }\n",
       "\n",
       "    .dataframe tbody tr th {\n",
       "        vertical-align: top;\n",
       "    }\n",
       "\n",
       "    .dataframe thead th {\n",
       "        text-align: right;\n",
       "    }\n",
       "</style>\n",
       "<table border=\"1\" class=\"dataframe\">\n",
       "  <thead>\n",
       "    <tr style=\"text-align: right;\">\n",
       "      <th></th>\n",
       "      <th>Rating</th>\n",
       "      <th>Content</th>\n",
       "      <th>Date</th>\n",
       "      <th>text</th>\n",
       "      <th>target</th>\n",
       "      <th>word_count</th>\n",
       "    </tr>\n",
       "  </thead>\n",
       "  <tbody>\n",
       "    <tr>\n",
       "      <th>0</th>\n",
       "      <td>5</td>\n",
       "      <td>It just works!</td>\n",
       "      <td>2017-08-14</td>\n",
       "      <td>it just works</td>\n",
       "      <td>1</td>\n",
       "      <td>3</td>\n",
       "    </tr>\n",
       "    <tr>\n",
       "      <th>1</th>\n",
       "      <td>4</td>\n",
       "      <td>В целом удобноное приложение...из минусов хотя...</td>\n",
       "      <td>2017-08-14</td>\n",
       "      <td>целое удобноной приложениеиз минус хотеть боль...</td>\n",
       "      <td>1</td>\n",
       "      <td>13</td>\n",
       "    </tr>\n",
       "    <tr>\n",
       "      <th>2</th>\n",
       "      <td>5</td>\n",
       "      <td>Отлично все</td>\n",
       "      <td>2017-08-14</td>\n",
       "      <td>отлично</td>\n",
       "      <td>1</td>\n",
       "      <td>1</td>\n",
       "    </tr>\n",
       "    <tr>\n",
       "      <th>3</th>\n",
       "      <td>5</td>\n",
       "      <td>Стал зависать на 1% работы антивируса. Дальше ...</td>\n",
       "      <td>2017-08-14</td>\n",
       "      <td>зависать 1 работа антивирус ранее пользоваться...</td>\n",
       "      <td>1</td>\n",
       "      <td>7</td>\n",
       "    </tr>\n",
       "    <tr>\n",
       "      <th>4</th>\n",
       "      <td>5</td>\n",
       "      <td>Очень удобно, работает быстро.</td>\n",
       "      <td>2017-08-14</td>\n",
       "      <td>удобно работать быстро</td>\n",
       "      <td>1</td>\n",
       "      <td>3</td>\n",
       "    </tr>\n",
       "  </tbody>\n",
       "</table>\n",
       "</div>"
      ],
      "text/plain": [
       "   Rating                                            Content        Date  \\\n",
       "0       5                                     It just works!  2017-08-14   \n",
       "1       4  В целом удобноное приложение...из минусов хотя...  2017-08-14   \n",
       "2       5                                        Отлично все  2017-08-14   \n",
       "3       5  Стал зависать на 1% работы антивируса. Дальше ...  2017-08-14   \n",
       "4       5                     Очень удобно, работает быстро.  2017-08-14   \n",
       "\n",
       "                                                text  target  word_count  \n",
       "0                                      it just works       1           3  \n",
       "1  целое удобноной приложениеиз минус хотеть боль...       1          13  \n",
       "2                                            отлично       1           1  \n",
       "3  зависать 1 работа антивирус ранее пользоваться...       1           7  \n",
       "4                             удобно работать быстро       1           3  "
      ]
     },
     "execution_count": 20,
     "metadata": {},
     "output_type": "execute_result"
    }
   ],
   "source": [
    "data.head()"
   ]
  },
  {
   "cell_type": "code",
   "execution_count": 21,
   "metadata": {},
   "outputs": [],
   "source": [
    "data['count_vect'] = data['text'].apply(lambda x: count_vect.transform(np.reshape(np.array(x), (1,))))"
   ]
  },
  {
   "cell_type": "code",
   "execution_count": 22,
   "metadata": {},
   "outputs": [
    {
     "data": {
      "text/html": [
       "<div>\n",
       "<style scoped>\n",
       "    .dataframe tbody tr th:only-of-type {\n",
       "        vertical-align: middle;\n",
       "    }\n",
       "\n",
       "    .dataframe tbody tr th {\n",
       "        vertical-align: top;\n",
       "    }\n",
       "\n",
       "    .dataframe thead th {\n",
       "        text-align: right;\n",
       "    }\n",
       "</style>\n",
       "<table border=\"1\" class=\"dataframe\">\n",
       "  <thead>\n",
       "    <tr style=\"text-align: right;\">\n",
       "      <th></th>\n",
       "      <th>Rating</th>\n",
       "      <th>Content</th>\n",
       "      <th>Date</th>\n",
       "      <th>text</th>\n",
       "      <th>target</th>\n",
       "      <th>word_count</th>\n",
       "      <th>count_vect</th>\n",
       "    </tr>\n",
       "  </thead>\n",
       "  <tbody>\n",
       "    <tr>\n",
       "      <th>0</th>\n",
       "      <td>5</td>\n",
       "      <td>It just works!</td>\n",
       "      <td>2017-08-14</td>\n",
       "      <td>it just works</td>\n",
       "      <td>1</td>\n",
       "      <td>3</td>\n",
       "      <td>(0, 498)\\t1\\n  (0, 916)\\t1</td>\n",
       "    </tr>\n",
       "    <tr>\n",
       "      <th>1</th>\n",
       "      <td>4</td>\n",
       "      <td>В целом удобноное приложение...из минусов хотя...</td>\n",
       "      <td>2017-08-14</td>\n",
       "      <td>целое удобноной приложениеиз минус хотеть боль...</td>\n",
       "      <td>1</td>\n",
       "      <td>13</td>\n",
       "      <td>(0, 1421)\\t1\\n  (0, 2461)\\t1\\n  (0, 2795)\\t1...</td>\n",
       "    </tr>\n",
       "    <tr>\n",
       "      <th>2</th>\n",
       "      <td>5</td>\n",
       "      <td>Отлично все</td>\n",
       "      <td>2017-08-14</td>\n",
       "      <td>отлично</td>\n",
       "      <td>1</td>\n",
       "      <td>1</td>\n",
       "      <td>(0, 5840)\\t1</td>\n",
       "    </tr>\n",
       "    <tr>\n",
       "      <th>3</th>\n",
       "      <td>5</td>\n",
       "      <td>Стал зависать на 1% работы антивируса. Дальше ...</td>\n",
       "      <td>2017-08-14</td>\n",
       "      <td>зависать 1 работа антивирус ранее пользоваться...</td>\n",
       "      <td>1</td>\n",
       "      <td>7</td>\n",
       "      <td>(0, 1094)\\t1\\n  (0, 3060)\\t1\\n  (0, 5205)\\t1...</td>\n",
       "    </tr>\n",
       "    <tr>\n",
       "      <th>4</th>\n",
       "      <td>5</td>\n",
       "      <td>Очень удобно, работает быстро.</td>\n",
       "      <td>2017-08-14</td>\n",
       "      <td>удобно работать быстро</td>\n",
       "      <td>1</td>\n",
       "      <td>3</td>\n",
       "      <td>(0, 1514)\\t1\\n  (0, 7838)\\t1\\n  (0, 9724)\\t1</td>\n",
       "    </tr>\n",
       "  </tbody>\n",
       "</table>\n",
       "</div>"
      ],
      "text/plain": [
       "   Rating                                            Content        Date  \\\n",
       "0       5                                     It just works!  2017-08-14   \n",
       "1       4  В целом удобноное приложение...из минусов хотя...  2017-08-14   \n",
       "2       5                                        Отлично все  2017-08-14   \n",
       "3       5  Стал зависать на 1% работы антивируса. Дальше ...  2017-08-14   \n",
       "4       5                     Очень удобно, работает быстро.  2017-08-14   \n",
       "\n",
       "                                                text  target  word_count  \\\n",
       "0                                      it just works       1           3   \n",
       "1  целое удобноной приложениеиз минус хотеть боль...       1          13   \n",
       "2                                            отлично       1           1   \n",
       "3  зависать 1 работа антивирус ранее пользоваться...       1           7   \n",
       "4                             удобно работать быстро       1           3   \n",
       "\n",
       "                                          count_vect  \n",
       "0                         (0, 498)\\t1\\n  (0, 916)\\t1  \n",
       "1    (0, 1421)\\t1\\n  (0, 2461)\\t1\\n  (0, 2795)\\t1...  \n",
       "2                                       (0, 5840)\\t1  \n",
       "3    (0, 1094)\\t1\\n  (0, 3060)\\t1\\n  (0, 5205)\\t1...  \n",
       "4       (0, 1514)\\t1\\n  (0, 7838)\\t1\\n  (0, 9724)\\t1  "
      ]
     },
     "execution_count": 22,
     "metadata": {},
     "output_type": "execute_result"
    }
   ],
   "source": [
    "data.head()"
   ]
  },
  {
   "cell_type": "markdown",
   "metadata": {},
   "source": [
    "количество частей речи в отзыве"
   ]
  },
  {
   "cell_type": "code",
   "execution_count": 23,
   "metadata": {},
   "outputs": [],
   "source": [
    "pos_family = {\n",
    "    'noun' : ['NN','NNS','NNP','NNPS', 'NOUN'],\n",
    "    'pron' : ['PRP','PRP$','WP','WP$', 'NPRO'],\n",
    "    'verb' : ['VB','VBD','VBG','VBN','VBP','VBZ', 'VERB', 'INFN'],\n",
    "    'adj' :  ['JJ','JJR','JJS', 'ADJF', 'ADJS'],\n",
    "    'adv' : ['RB','RBR','RBS','WRB', 'ADVB']\n",
    "}\n",
    "\n",
    "# подсчет тэгов частей речи в предложении\n",
    "def check_pos_tag(txt, flag):\n",
    "    cnt = 0\n",
    "    try:\n",
    "        txt = txt.split()\n",
    "        for word in txt:\n",
    "            ppo = str(morph.parse(word)[0].tag.POS)\n",
    "            if ppo in pos_family[flag]:\n",
    "                cnt += 1\n",
    "    except:\n",
    "        pass\n",
    "    return cnt\n"
   ]
  },
  {
   "cell_type": "code",
   "execution_count": 24,
   "metadata": {},
   "outputs": [],
   "source": [
    "data['noun_count'] = data['text'].apply(lambda x: check_pos_tag(x, 'noun'))\n",
    "data['verb_count'] = data['text'].apply(lambda x: check_pos_tag(x, 'verb'))\n",
    "data['adj_count'] = data['text'].apply(lambda x: check_pos_tag(x, 'adj'))\n",
    "data['adv_count'] = data['text'].apply(lambda x: check_pos_tag(x, 'adv'))\n",
    "data['pron_count'] = data['text'].apply(lambda x: check_pos_tag(x, 'pron'))"
   ]
  },
  {
   "cell_type": "code",
   "execution_count": 25,
   "metadata": {},
   "outputs": [
    {
     "data": {
      "text/html": [
       "<div>\n",
       "<style scoped>\n",
       "    .dataframe tbody tr th:only-of-type {\n",
       "        vertical-align: middle;\n",
       "    }\n",
       "\n",
       "    .dataframe tbody tr th {\n",
       "        vertical-align: top;\n",
       "    }\n",
       "\n",
       "    .dataframe thead th {\n",
       "        text-align: right;\n",
       "    }\n",
       "</style>\n",
       "<table border=\"1\" class=\"dataframe\">\n",
       "  <thead>\n",
       "    <tr style=\"text-align: right;\">\n",
       "      <th></th>\n",
       "      <th>Rating</th>\n",
       "      <th>Content</th>\n",
       "      <th>Date</th>\n",
       "      <th>text</th>\n",
       "      <th>target</th>\n",
       "      <th>word_count</th>\n",
       "      <th>count_vect</th>\n",
       "      <th>noun_count</th>\n",
       "      <th>verb_count</th>\n",
       "      <th>adj_count</th>\n",
       "      <th>adv_count</th>\n",
       "      <th>pron_count</th>\n",
       "    </tr>\n",
       "  </thead>\n",
       "  <tbody>\n",
       "    <tr>\n",
       "      <th>0</th>\n",
       "      <td>5</td>\n",
       "      <td>It just works!</td>\n",
       "      <td>2017-08-14</td>\n",
       "      <td>it just works</td>\n",
       "      <td>1</td>\n",
       "      <td>3</td>\n",
       "      <td>(0, 498)\\t1\\n  (0, 916)\\t1</td>\n",
       "      <td>0</td>\n",
       "      <td>0</td>\n",
       "      <td>0</td>\n",
       "      <td>0</td>\n",
       "      <td>0</td>\n",
       "    </tr>\n",
       "    <tr>\n",
       "      <th>1</th>\n",
       "      <td>4</td>\n",
       "      <td>В целом удобноное приложение...из минусов хотя...</td>\n",
       "      <td>2017-08-14</td>\n",
       "      <td>целое удобноной приложениеиз минус хотеть боль...</td>\n",
       "      <td>1</td>\n",
       "      <td>13</td>\n",
       "      <td>(0, 1421)\\t1\\n  (0, 2461)\\t1\\n  (0, 2795)\\t1...</td>\n",
       "      <td>0</td>\n",
       "      <td>0</td>\n",
       "      <td>0</td>\n",
       "      <td>0</td>\n",
       "      <td>0</td>\n",
       "    </tr>\n",
       "    <tr>\n",
       "      <th>2</th>\n",
       "      <td>5</td>\n",
       "      <td>Отлично все</td>\n",
       "      <td>2017-08-14</td>\n",
       "      <td>отлично</td>\n",
       "      <td>1</td>\n",
       "      <td>1</td>\n",
       "      <td>(0, 5840)\\t1</td>\n",
       "      <td>0</td>\n",
       "      <td>0</td>\n",
       "      <td>0</td>\n",
       "      <td>0</td>\n",
       "      <td>0</td>\n",
       "    </tr>\n",
       "    <tr>\n",
       "      <th>3</th>\n",
       "      <td>5</td>\n",
       "      <td>Стал зависать на 1% работы антивируса. Дальше ...</td>\n",
       "      <td>2017-08-14</td>\n",
       "      <td>зависать 1 работа антивирус ранее пользоваться...</td>\n",
       "      <td>1</td>\n",
       "      <td>7</td>\n",
       "      <td>(0, 1094)\\t1\\n  (0, 3060)\\t1\\n  (0, 5205)\\t1...</td>\n",
       "      <td>0</td>\n",
       "      <td>0</td>\n",
       "      <td>0</td>\n",
       "      <td>0</td>\n",
       "      <td>0</td>\n",
       "    </tr>\n",
       "    <tr>\n",
       "      <th>4</th>\n",
       "      <td>5</td>\n",
       "      <td>Очень удобно, работает быстро.</td>\n",
       "      <td>2017-08-14</td>\n",
       "      <td>удобно работать быстро</td>\n",
       "      <td>1</td>\n",
       "      <td>3</td>\n",
       "      <td>(0, 1514)\\t1\\n  (0, 7838)\\t1\\n  (0, 9724)\\t1</td>\n",
       "      <td>0</td>\n",
       "      <td>0</td>\n",
       "      <td>0</td>\n",
       "      <td>0</td>\n",
       "      <td>0</td>\n",
       "    </tr>\n",
       "  </tbody>\n",
       "</table>\n",
       "</div>"
      ],
      "text/plain": [
       "   Rating                                            Content        Date  \\\n",
       "0       5                                     It just works!  2017-08-14   \n",
       "1       4  В целом удобноное приложение...из минусов хотя...  2017-08-14   \n",
       "2       5                                        Отлично все  2017-08-14   \n",
       "3       5  Стал зависать на 1% работы антивируса. Дальше ...  2017-08-14   \n",
       "4       5                     Очень удобно, работает быстро.  2017-08-14   \n",
       "\n",
       "                                                text  target  word_count  \\\n",
       "0                                      it just works       1           3   \n",
       "1  целое удобноной приложениеиз минус хотеть боль...       1          13   \n",
       "2                                            отлично       1           1   \n",
       "3  зависать 1 работа антивирус ранее пользоваться...       1           7   \n",
       "4                             удобно работать быстро       1           3   \n",
       "\n",
       "                                          count_vect  noun_count  verb_count  \\\n",
       "0                         (0, 498)\\t1\\n  (0, 916)\\t1           0           0   \n",
       "1    (0, 1421)\\t1\\n  (0, 2461)\\t1\\n  (0, 2795)\\t1...           0           0   \n",
       "2                                       (0, 5840)\\t1           0           0   \n",
       "3    (0, 1094)\\t1\\n  (0, 3060)\\t1\\n  (0, 5205)\\t1...           0           0   \n",
       "4       (0, 1514)\\t1\\n  (0, 7838)\\t1\\n  (0, 9724)\\t1           0           0   \n",
       "\n",
       "   adj_count  adv_count  pron_count  \n",
       "0          0          0           0  \n",
       "1          0          0           0  \n",
       "2          0          0           0  \n",
       "3          0          0           0  \n",
       "4          0          0           0  "
      ]
     },
     "execution_count": 25,
     "metadata": {},
     "output_type": "execute_result"
    }
   ],
   "source": [
    "data.head()"
   ]
  },
  {
   "cell_type": "code",
   "execution_count": 34,
   "metadata": {},
   "outputs": [
    {
     "data": {
      "text/plain": [
       "Index(['text', 'word_count', 'count_vect', 'noun_count', 'verb_count',\n",
       "       'adj_count', 'adv_count', 'pron_count'],\n",
       "      dtype='object')"
      ]
     },
     "execution_count": 34,
     "metadata": {},
     "output_type": "execute_result"
    }
   ],
   "source": [
    "columns_to_df = data.columns[3:].drop('target')\n",
    "columns_to_df"
   ]
  },
  {
   "cell_type": "code",
   "execution_count": 35,
   "metadata": {},
   "outputs": [],
   "source": [
    "X_train, X_test, y_train, y_test = train_test_split(data[columns_to_df], data['target'], test_size=0.2,\n",
    "                                                    random_state=13, stratify=data['target'])"
   ]
  },
  {
   "cell_type": "code",
   "execution_count": 36,
   "metadata": {},
   "outputs": [],
   "source": [
    "lr = LogisticRegression(class_weight=\"balanced\").fit(xtrain, y_train)"
   ]
  },
  {
   "cell_type": "code",
   "execution_count": 37,
   "metadata": {},
   "outputs": [
    {
     "data": {
      "text/plain": [
       "0.9589699687457534"
      ]
     },
     "execution_count": 37,
     "metadata": {},
     "output_type": "execute_result"
    }
   ],
   "source": [
    "roc_auc_score(y_test, lr.predict_proba(xtest)[:, 1])"
   ]
  },
  {
   "cell_type": "code",
   "execution_count": 38,
   "metadata": {},
   "outputs": [],
   "source": [
    "rfc = RandomForestClassifier(n_jobs=-1).fit(xtrain, y_train)"
   ]
  },
  {
   "cell_type": "code",
   "execution_count": 39,
   "metadata": {},
   "outputs": [
    {
     "data": {
      "text/plain": [
       "0.9562153948782567"
      ]
     },
     "execution_count": 39,
     "metadata": {},
     "output_type": "execute_result"
    }
   ],
   "source": [
    "roc_auc_score(y_test, rfc.predict_proba(xtest)[:, 1])"
   ]
  },
  {
   "cell_type": "markdown",
   "metadata": {},
   "source": [
    "### Построение тематической модели"
   ]
  },
  {
   "cell_type": "code",
   "execution_count": 42,
   "metadata": {},
   "outputs": [],
   "source": [
    "data['lemm'] = data['text'].apply(lambda x: x.split())"
   ]
  },
  {
   "cell_type": "code",
   "execution_count": 45,
   "metadata": {},
   "outputs": [
    {
     "data": {
      "text/html": [
       "<div>\n",
       "<style scoped>\n",
       "    .dataframe tbody tr th:only-of-type {\n",
       "        vertical-align: middle;\n",
       "    }\n",
       "\n",
       "    .dataframe tbody tr th {\n",
       "        vertical-align: top;\n",
       "    }\n",
       "\n",
       "    .dataframe thead th {\n",
       "        text-align: right;\n",
       "    }\n",
       "</style>\n",
       "<table border=\"1\" class=\"dataframe\">\n",
       "  <thead>\n",
       "    <tr style=\"text-align: right;\">\n",
       "      <th></th>\n",
       "      <th>Rating</th>\n",
       "      <th>Content</th>\n",
       "      <th>Date</th>\n",
       "      <th>text</th>\n",
       "      <th>target</th>\n",
       "      <th>word_count</th>\n",
       "      <th>count_vect</th>\n",
       "      <th>noun_count</th>\n",
       "      <th>verb_count</th>\n",
       "      <th>adj_count</th>\n",
       "      <th>adv_count</th>\n",
       "      <th>pron_count</th>\n",
       "      <th>lemm</th>\n",
       "    </tr>\n",
       "  </thead>\n",
       "  <tbody>\n",
       "    <tr>\n",
       "      <th>0</th>\n",
       "      <td>5</td>\n",
       "      <td>It just works!</td>\n",
       "      <td>2017-08-14</td>\n",
       "      <td>it just works</td>\n",
       "      <td>1</td>\n",
       "      <td>3</td>\n",
       "      <td>(0, 498)\\t1\\n  (0, 916)\\t1</td>\n",
       "      <td>0</td>\n",
       "      <td>0</td>\n",
       "      <td>0</td>\n",
       "      <td>0</td>\n",
       "      <td>0</td>\n",
       "      <td>[it, just, works]</td>\n",
       "    </tr>\n",
       "    <tr>\n",
       "      <th>1</th>\n",
       "      <td>4</td>\n",
       "      <td>В целом удобноное приложение...из минусов хотя...</td>\n",
       "      <td>2017-08-14</td>\n",
       "      <td>целое удобноной приложениеиз минус хотеть боль...</td>\n",
       "      <td>1</td>\n",
       "      <td>13</td>\n",
       "      <td>(0, 1421)\\t1\\n  (0, 2461)\\t1\\n  (0, 2795)\\t1...</td>\n",
       "      <td>0</td>\n",
       "      <td>0</td>\n",
       "      <td>0</td>\n",
       "      <td>0</td>\n",
       "      <td>0</td>\n",
       "      <td>[целое, удобноной, приложениеиз, минус, хотеть...</td>\n",
       "    </tr>\n",
       "  </tbody>\n",
       "</table>\n",
       "</div>"
      ],
      "text/plain": [
       "   Rating                                            Content        Date  \\\n",
       "0       5                                     It just works!  2017-08-14   \n",
       "1       4  В целом удобноное приложение...из минусов хотя...  2017-08-14   \n",
       "\n",
       "                                                text  target  word_count  \\\n",
       "0                                      it just works       1           3   \n",
       "1  целое удобноной приложениеиз минус хотеть боль...       1          13   \n",
       "\n",
       "                                          count_vect  noun_count  verb_count  \\\n",
       "0                         (0, 498)\\t1\\n  (0, 916)\\t1           0           0   \n",
       "1    (0, 1421)\\t1\\n  (0, 2461)\\t1\\n  (0, 2795)\\t1...           0           0   \n",
       "\n",
       "   adj_count  adv_count  pron_count  \\\n",
       "0          0          0           0   \n",
       "1          0          0           0   \n",
       "\n",
       "                                                lemm  \n",
       "0                                  [it, just, works]  \n",
       "1  [целое, удобноной, приложениеиз, минус, хотеть...  "
      ]
     },
     "execution_count": 45,
     "metadata": {},
     "output_type": "execute_result"
    }
   ],
   "source": [
    "data.head(2)"
   ]
  },
  {
   "cell_type": "markdown",
   "metadata": {},
   "source": [
    "## LDA"
   ]
  },
  {
   "cell_type": "code",
   "execution_count": 48,
   "metadata": {},
   "outputs": [],
   "source": [
    "dct = corpora.Dictionary(data.lemm.values)"
   ]
  },
  {
   "cell_type": "code",
   "execution_count": 49,
   "metadata": {},
   "outputs": [],
   "source": [
    "corpus = [dct.doc2bow(line) for line in data.lemm.values]"
   ]
  },
  {
   "cell_type": "code",
   "execution_count": 82,
   "metadata": {},
   "outputs": [],
   "source": [
    "# Step 4: Train the LDA model\n",
    "lda_model = LdaModel(corpus=corpus,\n",
    "                         id2word=dct,\n",
    "                         random_state=100,\n",
    "                         num_topics=3,\n",
    "                         passes=10,\n",
    "                         chunksize=1000,\n",
    "                         alpha='auto',\n",
    "                         decay=0.5,\n",
    "                         offset=64,\n",
    "                         eta=None,\n",
    "                         eval_every=0,\n",
    "                         iterations=100,\n",
    "                         gamma_threshold=0.001,\n",
    "                         per_word_topics=True)\n",
    "\n",
    "# save the model\n",
    "# lda_model.save('lda_model.model')\n",
    "\n"
   ]
  },
  {
   "cell_type": "code",
   "execution_count": 83,
   "metadata": {},
   "outputs": [
    {
     "data": {
      "text/plain": [
       "[(0,\n",
       "  '0.052*\"приложение\" + 0.014*\"работать\" + 0.012*\"телефон\" + 0.012*\"хороший\" + 0.012*\"обновление\" + 0.009*\"отличный\" + 0.009*\"мочь\" + 0.009*\"антивирус\" + 0.008*\"устраивать\" + 0.007*\"прошивка\"'),\n",
       " (1,\n",
       "  '0.062*\"супер\" + 0.051*\"быстро\" + 0.020*\"понятно\" + 0.014*\"молодец\" + 0.011*\"понравиться\" + 0.011*\"кредит\" + 0.006*\"классно\" + 0.006*\"хотеться\" + 0.006*\"чётко\" + 0.005*\"счёт\"'),\n",
       " (2,\n",
       "  '0.123*\"удобно\" + 0.081*\"приложение\" + 0.066*\"удобный\" + 0.050*\"отлично\" + 0.046*\"нравиться\" + 0.029*\"работать\" + 0.016*\"норма\" + 0.010*\"отличный\" + 0.010*\"пользоваться\" + 0.009*\"класс\"')]"
      ]
     },
     "execution_count": 83,
     "metadata": {},
     "output_type": "execute_result"
    }
   ],
   "source": [
    "lda_model.print_topics(-1)"
   ]
  },
  {
   "cell_type": "markdown",
   "metadata": {},
   "source": [
    "## LSI"
   ]
  },
  {
   "cell_type": "code",
   "execution_count": 70,
   "metadata": {},
   "outputs": [],
   "source": [
    "lsi_model = LsiModel(corpus=corpus, id2word=dct, num_topics=3, decay=0.5)"
   ]
  },
  {
   "cell_type": "code",
   "execution_count": 72,
   "metadata": {},
   "outputs": [
    {
     "data": {
      "text/plain": [
       "[(0,\n",
       "  '0.901*\"приложение\" + 0.191*\"удобный\" + 0.130*\"работать\" + 0.113*\"телефон\" + 0.102*\"отличный\" + 0.099*\"хороший\" + 0.096*\"удобно\" + 0.069*\"обновление\" + 0.066*\"антивирус\" + 0.065*\"пользоваться\"'),\n",
       " (1,\n",
       "  '-0.965*\"удобно\" + -0.172*\"быстро\" + 0.117*\"приложение\" + -0.077*\"работать\" + -0.072*\"нравиться\" + 0.060*\"удобный\" + -0.050*\"отлично\" + -0.039*\"понятно\" + -0.037*\"пользоваться\" + -0.025*\"супер\"'),\n",
       " (2,\n",
       "  '0.695*\"работать\" + -0.290*\"удобный\" + 0.266*\"телефон\" + 0.264*\"отлично\" + -0.194*\"приложение\" + 0.168*\"обновление\" + 0.140*\"прошивка\" + 0.116*\"антивирус\" + -0.110*\"удобно\" + 0.109*\"рута\"')]"
      ]
     },
     "execution_count": 72,
     "metadata": {},
     "output_type": "execute_result"
    }
   ],
   "source": [
    "lsi_model.print_topics(-1)"
   ]
  },
  {
   "cell_type": "markdown",
   "metadata": {},
   "source": [
    "### Визуализируем"
   ]
  },
  {
   "cell_type": "code",
   "execution_count": 92,
   "metadata": {},
   "outputs": [],
   "source": [
    "id2word = corpora.Dictionary(data.lemm.values)\n",
    "#first visualize the 10 topic model\n",
    "LDAvis_data_filepath = os.path.join('./ldavis_prepared_'+str(10))\n",
    "\n",
    "LDAvis_prepared = pyLDAvis.gensim.prepare(lda_model, corpus, id2word)\n",
    "\n",
    "pyLDAvis.display(LDAvis_prepared)"
   ]
  },
  {
   "cell_type": "code",
   "execution_count": 93,
   "metadata": {},
   "outputs": [
    {
     "data": {
      "text/html": [
       "\n",
       "<link rel=\"stylesheet\" type=\"text/css\" href=\"https://cdn.rawgit.com/bmabey/pyLDAvis/files/ldavis.v1.0.0.css\">\n",
       "\n",
       "\n",
       "<div id=\"ldavis_el27621399479429897129953060472\"></div>\n",
       "<script type=\"text/javascript\">\n",
       "\n",
       "var ldavis_el27621399479429897129953060472_data = {\"mdsDat\": {\"x\": [-0.1704016336921414, -0.0876534535854307, 0.25805508727757204], \"y\": [0.1830167466851037, -0.22682330893964933, 0.04380656225454553], \"topics\": [1, 2, 3], \"cluster\": [1, 1, 1], \"Freq\": [68.0586166381836, 22.713130950927734, 9.228259086608887]}, \"tinfo\": {\"Term\": [\"\\u0443\\u0434\\u043e\\u0431\\u043d\\u043e\", \"\\u0443\\u0434\\u043e\\u0431\\u043d\\u044b\\u0439\", \"\\u043f\\u0440\\u0438\\u043b\\u043e\\u0436\\u0435\\u043d\\u0438\\u0435\", \"\\u043e\\u0442\\u043b\\u0438\\u0447\\u043d\\u043e\", \"\\u043d\\u0440\\u0430\\u0432\\u0438\\u0442\\u044c\\u0441\\u044f\", \"\\u0441\\u0443\\u043f\\u0435\\u0440\", \"\\u0431\\u044b\\u0441\\u0442\\u0440\\u043e\", \"\\u0440\\u0430\\u0431\\u043e\\u0442\\u0430\\u0442\\u044c\", \"\\u043d\\u043e\\u0440\\u043c\\u0430\", \"\\u043f\\u043e\\u043d\\u044f\\u0442\\u043d\\u043e\", \"\\u043c\\u043e\\u043b\\u043e\\u0434\\u0435\\u0446\", \"\\u0442\\u0435\\u043b\\u0435\\u0444\\u043e\\u043d\", \"\\u0445\\u043e\\u0440\\u043e\\u0448\\u0438\\u0439\", \"\\u043e\\u0431\\u043d\\u043e\\u0432\\u043b\\u0435\\u043d\\u0438\\u0435\", \"\\u043a\\u043b\\u0430\\u0441\\u0441\", \"\\u043f\\u043e\\u043b\\u044c\\u0437\\u043e\\u0432\\u0430\\u0442\\u044c\\u0441\\u044f\", \"\\u043f\\u043e\\u043d\\u0440\\u0430\\u0432\\u0438\\u0442\\u044c\\u0441\\u044f\", \"\\u043a\\u0440\\u0435\\u0434\\u0438\\u0442\", \"\\u043e\\u0442\\u043b\\u0438\\u0447\\u043d\\u044b\\u0439\", \"\\u043c\\u043e\\u0447\\u044c\", \"\\u0440\\u0443\\u043a\\u0430\", \"\\u0430\\u043d\\u0442\\u0438\\u0432\\u0438\\u0440\\u0443\\u0441\", \"\\u043a\\u0430\\u0440\\u0442\\u0430\", \"\\u0443\\u0441\\u0442\\u0440\\u0430\\u0438\\u0432\\u0430\\u0442\\u044c\", \"\\u0441\\u0447\\u0451\\u0442\", \"\\u043f\\u0440\\u043e\\u0448\\u0438\\u0432\\u043a\\u0430\", \"\\u0434\\u043e\\u043c\", \"\\u043f\\u0430\\u0440\\u043e\\u043b\\u044c\", \"\\u0431\\u043e\\u043b\\u044c\\u0448\\u043e\\u0439\", \"\\u0440\\u0443\\u0442\\u0430\", \"\\u0442\\u0435\\u043b\\u0435\\u0444\\u043e\\u043d\", \"\\u043e\\u0431\\u043d\\u043e\\u0432\\u043b\\u0435\\u043d\\u0438\\u0435\", \"\\u0445\\u043e\\u0440\\u043e\\u0448\\u0438\\u0439\", \"\\u043c\\u043e\\u0447\\u044c\", \"\\u0430\\u043d\\u0442\\u0438\\u0432\\u0438\\u0440\\u0443\\u0441\", \"\\u043f\\u0440\\u043e\\u0448\\u0438\\u0432\\u043a\\u0430\", \"\\u043f\\u0430\\u0440\\u043e\\u043b\\u044c\", \"\\u0443\\u0441\\u0442\\u0440\\u0430\\u0438\\u0432\\u0430\\u0442\\u044c\", \"\\u0440\\u0443\\u0442\\u0430\", \"\\u0440\\u0430\\u0437\", \"\\u043d\\u043e\\u0440\\u043c\\u0430\\u043b\\u044c\\u043d\\u044b\\u0439\", \"\\u0432\\u0445\\u043e\\u0434\", \"\\u043f\\u0438\\u0441\\u0430\\u0442\\u044c\", \"\\u043e\\u0448\\u0438\\u0431\\u043a\\u0430\", \"\\u043f\\u0440\\u043e\\u0431\\u043b\\u0435\\u043c\\u0430\", \"\\u043f\\u043e\\u0441\\u043b\\u0435\\u0434\\u043d\\u0438\\u0439\", \"\\u043f\\u0440\\u0438\\u0445\\u043e\\u0434\\u0438\\u0442\\u044c\\u0441\\u044f\", \"\\u0441\\u0434\\u0435\\u043b\\u0430\\u0442\\u044c\", \"\\u043f\\u043e\\u0441\\u0442\\u043e\\u044f\\u043d\\u043d\\u043e\", \"\\u043e\\u043a\", \"\\u043f\\u0440\\u0430\\u0432\\u043e\", \"\\u0432\\u0432\\u043e\\u0434\\u0438\\u0442\\u044c\", \"\\u0438\\u0441\\u043f\\u0440\\u0430\\u0432\\u0438\\u0442\\u044c\", \"\\u0441\\u0442\\u0430\\u0442\\u044c\", \"\\u0437\\u0430\\u0439\\u0442\\u0438\", \"\\u0441\\u043c\\u0441\", \"meizu\", \"root\", \"\\u0438\\u043d\\u044f\", \"\\u043f\\u0440\\u043e\\u0432\\u0435\\u0440\\u043a\\u0430\", \"\\u043f\\u0440\\u043e\\u0433\\u0440\\u0430\\u043c\\u043c\\u0430\", \"\\u043a\\u0430\\u0440\\u0442\\u0430\", \"\\u043f\\u0440\\u0438\\u043b\\u043e\\u0436\\u0435\\u043d\\u0438\\u0435\", \"\\u0434\\u0435\\u043d\\u044c\\u0433\\u0430\", \"\\u0441\\u0431\\u0435\\u0440\\u0431\\u0430\\u043d\\u043a\", \"\\u043e\\u0442\\u043b\\u0438\\u0447\\u043d\\u044b\\u0439\", \"\\u0440\\u0430\\u0431\\u043e\\u0442\\u0430\\u0442\\u044c\", \"\\u043f\\u0435\\u0440\\u0435\\u0432\\u043e\\u0434\", \"\\u0431\\u0430\\u043d\\u043a\", \"\\u043f\\u043e\\u043b\\u044c\\u0437\\u043e\\u0432\\u0430\\u0442\\u044c\\u0441\\u044f\", \"\\u0443\\u0434\\u043e\\u0431\\u043d\\u043e\", \"\\u0443\\u0434\\u043e\\u0431\\u043d\\u044b\\u0439\", \"\\u043e\\u0442\\u043b\\u0438\\u0447\\u043d\\u043e\", \"\\u043d\\u0440\\u0430\\u0432\\u0438\\u0442\\u044c\\u0441\\u044f\", \"\\u043d\\u043e\\u0440\\u043c\\u0430\", \"\\u043a\\u043b\\u0430\\u0441\\u0441\", \"\\u0440\\u0443\\u043a\\u0430\", \"\\u0434\\u043e\\u043c\", \"\\u043b\\u0435\\u0433\\u043a\\u043e\", \"\\u043f\\u0440\\u043e\\u0441\\u0442\\u043e\\u0439\", \"\\u0434\\u043e\\u0441\\u0442\\u0443\\u043f\\u043d\\u043e\", \"\\u043f\\u043e\\u043b\\u0435\\u0437\\u043d\\u044b\\u0439\", \"\\u0437\\u0430\\u043c\\u0435\\u0447\\u0430\\u0442\\u0435\\u043b\\u044c\\u043d\\u044b\\u0439\", \"\\u0443\\u043f\\u0440\\u0430\\u0432\\u043b\\u044f\\u0442\\u044c\", \"\\u0438\\u043d\\u0442\\u0435\\u0440\\u0444\\u0435\\u0439\\u0441\", \"\\u043b\\u044e\\u0431\\u043e\\u0439\", \"\\u0444\\u0438\\u043d\\u0430\\u043d\\u0441\\u044b\", \"\\u0433\\u0443\\u0434\", \"\\u0440\\u0435\\u043a\\u043e\\u043c\\u0435\\u043d\\u0434\\u043e\\u0432\\u0430\\u0442\\u044c\", \"\\u0441\\u0435\\u0440\\u0432\\u0438\\u0441\", \"\\u0432\\u043f\\u043e\\u043b\\u043d\\u0435\", \"\\u043e\\u0447\\u0435\\u0440\\u0435\\u0434\\u044c\", \"\\u044d\\u043a\\u043e\\u043d\\u043e\\u043c\\u0438\\u0442\\u044c\", \"\\u043f\\u043e\\u043d\\u044f\\u0442\\u043d\\u044b\\u0439\", \"\\u0441\\u043e\\u0432\\u0435\\u0442\\u043e\\u0432\\u0430\\u0442\\u044c\", \"\\u0443\\u043f\\u0440\\u0430\\u0432\\u043b\\u0435\\u043d\\u0438\\u0435\", \"\\u043b\\u0438\\u0448\\u043d\\u0438\\u0439\", \"\\u043f\\u0440\\u0438\\u044f\\u0442\\u043d\\u044b\\u0439\", \"\\u0443\\u0434\\u043e\\u0431\\u043d\\u043e\\u043d\\u0430\", \"\\ud83d\\udc4d\", \"\\u043d\\u0430\\u0434\\u0451\\u0436\\u043d\\u043e\", \"\\u0432\\u044b\\u0440\\u0443\\u0447\\u0430\\u0442\\u044c\", \"\\u0438\\u0441\\u043f\\u043e\\u043b\\u044c\\u0437\\u043e\\u0432\\u0430\\u043d\\u0438\\u0435\", \"\\u043e\\u043f\\u043b\\u0430\\u0447\\u0438\\u0432\\u0430\\u0442\\u044c\", \"\\u0431\\u043e\\u043b\\u044c\\u0448\\u043e\\u0439\", \"\\u0432\\u044b\\u0445\\u043e\\u0434\\u0438\\u0442\\u044c\", \"\\u043f\\u0440\\u0438\\u043b\\u043e\\u0436\\u0435\\u043d\\u0438\\u0435\", \"\\u0440\\u0430\\u0431\\u043e\\u0442\\u0430\\u0442\\u044c\", \"\\u043f\\u043e\\u043b\\u044c\\u0437\\u043e\\u0432\\u0430\\u0442\\u044c\\u0441\\u044f\", \"\\u0431\\u044b\\u0441\\u0442\\u0440\\u044b\\u0439\", \"\\u043e\\u0442\\u043b\\u0438\\u0447\\u043d\\u044b\\u0439\", \"\\u043e\\u043f\\u043b\\u0430\\u0442\\u0430\", \"\\u0440\\u0430\\u0437\\u0440\\u0430\\u0431\\u043e\\u0442\\u0447\\u0438\\u043a\", \"\\u043f\\u043b\\u0430\\u0442\\u0451\\u0436\", \"\\u0441\\u0447\\u0451\\u0442\", \"\\u0441\\u0431\\u0435\\u0440\\u0431\\u0430\\u043d\\u043a\", \"\\u0441\\u0443\\u043f\\u0435\\u0440\", \"\\u0431\\u044b\\u0441\\u0442\\u0440\\u043e\", \"\\u043f\\u043e\\u043d\\u044f\\u0442\\u043d\\u043e\", \"\\u043c\\u043e\\u043b\\u043e\\u0434\\u0435\\u0446\", \"\\u043f\\u043e\\u043d\\u0440\\u0430\\u0432\\u0438\\u0442\\u044c\\u0441\\u044f\", \"\\u043a\\u0440\\u0435\\u0434\\u0438\\u0442\", \"\\u043a\\u043b\\u0430\\u0441\\u0441\\u043d\\u043e\", \"\\u0447\\u0451\\u0442\\u043a\\u043e\", \"\\u0445\\u043e\\u0442\\u0435\\u0442\\u044c\\u0441\\u044f\", \"\\u043f\\u0440\\u0438\\u044f\\u0442\\u043d\\u043e\", \"good\", \"\\u043f\\u043e\\u0433\\u0430\\u0448\\u0435\\u043d\\u0438\\u0435\", \"super\", \"\\u0434\\u043e\\u0441\\u0440\\u043e\\u0447\\u043d\\u044b\\u0439\", \"the\", \"\\u043e\\u0431\\u0441\\u043b\\u0443\\u0436\\u0438\\u0432\\u0430\\u043d\\u0438\\u0435\", \"\\u043a\\u0430\\u0447\\u0435\\u0441\\u0442\\u0432\\u0435\\u043d\\u043d\\u043e\", \"\\u043e\\u0433\\u043e\\u043d\\u044c\", \"and\", \"\\u0441\\u043b\\u0435\\u0434\\u0438\\u0442\\u044c\", \"\\u043d\\u0435\\u043f\\u043b\\u043e\\u0445\\u043e\", \"\\u0443\\u0440\\u0430\", \"\\u043a\\u0440\\u0435\\u0434\\u0438\\u0442\\u043d\\u044b\\u0439\", \"\\u043b\\u044e\\u0431\\u0430\", \"\\u0441\\u043e\\u0441\\u0442\\u043e\\u044f\\u043d\\u0438\\u0435\", \"it\", \"\\u043e\\u043a\\u0435\\u0439\", \"\\u044f\\u0441\\u043d\\u043e\", \"\\u043a\\u0440\\u0443\\u0442\\u044c\", \"\\u043a\\u043e\\u0448\\u0435\\u043b\\u0451\\u043a\", \"\\u043f\\u043e\\u0441\\u0442\\u0443\\u043f\\u043b\\u0435\\u043d\\u0438\\u0435\", \"\\u043f\\u0440\\u0438\\u0434\\u0443\\u043c\\u0430\\u0442\\u044c\", \"\\u0441\\u0443\\u043c\\u043c\\u0430\", \"\\u0441\\u0442\\u0440\\u0430\\u043d\\u0430\", \"\\u0441\\u0447\\u0451\\u0442\", \"\\u0434\\u043e\\u0431\\u0430\\u0432\\u0438\\u0442\\u044c\", \"\\u043a\\u0430\\u0440\\u0442\\u0430\", \"\\u0432\\u043e\\u0437\\u043c\\u043e\\u0436\\u043d\\u043e\\u0441\\u0442\\u044c\", \"\\u0434\\u0435\\u043d\\u044c\\u0433\\u0430\"], \"Freq\": [2597.0, 1399.0, 5034.0, 1051.0, 972.0, 537.0, 435.0, 1509.0, 348.0, 174.0, 122.0, 790.0, 780.0, 754.0, 181.0, 568.0, 95.0, 93.0, 820.0, 577.0, 135.0, 542.0, 403.0, 492.0, 324.0, 471.0, 111.0, 450.0, 127.0, 443.0, 790.4317626953125, 754.0699462890625, 779.5567016601562, 576.9413452148438, 541.5690307617188, 471.2005615234375, 450.4814453125, 491.6947326660156, 442.67578125, 390.5428161621094, 388.4384765625, 374.7090759277344, 366.71820068359375, 302.6260681152344, 312.177978515625, 279.95086669921875, 260.83746337890625, 330.5442199707031, 255.95494079589844, 250.6684112548828, 245.42578125, 245.44541931152344, 242.6014862060547, 247.9095916748047, 222.11248779296875, 215.20594787597656, 223.1414337158203, 205.7703094482422, 214.23692321777344, 198.3453826904297, 287.2166442871094, 371.3358154296875, 3323.649658203125, 290.7980651855469, 459.3260498046875, 600.1952514648438, 903.8946533203125, 302.6539001464844, 299.38629150390625, 358.7089538574219, 2597.255126953125, 1398.96337890625, 1050.847412109375, 972.2608032226562, 347.85675048828125, 180.87744140625, 134.950927734375, 110.67008972167969, 102.39442443847656, 104.1618423461914, 76.472900390625, 72.12782287597656, 84.25892639160156, 76.35904693603516, 72.6051025390625, 72.7770767211914, 70.2611083984375, 61.689353942871094, 68.7217025756836, 77.82557678222656, 52.29539489746094, 53.170127868652344, 48.842525482177734, 46.40085220336914, 62.381961822509766, 45.76321029663086, 47.91021728515625, 35.56753158569336, 35.6146125793457, 33.733463287353516, 46.02145767211914, 41.31361770629883, 72.48623657226562, 101.59375762939453, 112.9710693359375, 96.3883056640625, 1710.75537109375, 605.0604858398438, 209.60171508789062, 70.3307876586914, 219.85623168945312, 90.35386657714844, 101.039794921875, 81.43048858642578, 72.81169891357422, 73.25120544433594, 537.3013305664062, 434.3282470703125, 173.864501953125, 121.60945892333984, 94.54385375976562, 93.09033203125, 49.85831832885742, 47.873836517333984, 49.57200622558594, 29.62347984313965, 26.737022399902344, 24.812902450561523, 22.12619400024414, 19.70189666748047, 18.93379783630371, 20.765350341796875, 18.59439468383789, 18.605588912963867, 16.554548263549805, 20.948945999145508, 16.502941131591797, 15.128547668457031, 13.191217422485352, 16.457494735717773, 14.211151123046875, 13.282892227172852, 12.696181297302246, 12.304936408996582, 10.227212905883789, 9.963814735412598, 11.645506858825684, 10.482209205627441, 29.27560806274414, 14.95263957977295, 46.6931266784668, 20.80278778076172, 31.939855575561523, 24.042301177978516, 15.311272621154785], \"Total\": [2597.0, 1399.0, 5034.0, 1051.0, 972.0, 537.0, 435.0, 1509.0, 348.0, 174.0, 122.0, 790.0, 780.0, 754.0, 181.0, 568.0, 95.0, 93.0, 820.0, 577.0, 135.0, 542.0, 403.0, 492.0, 324.0, 471.0, 111.0, 450.0, 127.0, 443.0, 790.9660034179688, 754.5939331054688, 780.1768798828125, 577.472900390625, 542.0902099609375, 471.7170104980469, 450.9997863769531, 492.26226806640625, 443.19775390625, 391.0655212402344, 388.9733581542969, 375.23248291015625, 367.2362365722656, 303.1463317871094, 312.7611999511719, 280.4779052734375, 261.364501953125, 331.21240234375, 256.4836120605469, 251.19216918945312, 245.94497680664062, 245.9684295654297, 243.12864685058594, 248.4746551513672, 222.6372833251953, 215.7283935546875, 223.70176696777344, 206.28775024414062, 214.79283142089844, 198.86354064941406, 288.8885498046875, 403.64801025390625, 5034.63916015625, 308.19146728515625, 532.8268432617188, 820.2837524414062, 1509.1898193359375, 357.3133850097656, 356.2132263183594, 568.5448608398438, 2597.77685546875, 1399.4844970703125, 1051.3648681640625, 972.7793579101562, 348.38134765625, 181.38612365722656, 135.53164672851562, 111.21517944335938, 102.92720794677734, 104.80168151855469, 76.99917602539062, 72.6447525024414, 84.86668395996094, 76.9133529663086, 73.14830017089844, 73.33405303955078, 70.80268096923828, 62.19728088378906, 69.30126190185547, 78.55628204345703, 52.840824127197266, 53.728328704833984, 49.355499267578125, 46.9095458984375, 63.10050582885742, 46.349185943603516, 48.546939849853516, 36.0835075378418, 36.14555358886719, 34.24506378173828, 46.72128677368164, 41.953407287597656, 74.17532348632812, 108.32017517089844, 127.07096099853516, 112.119384765625, 5034.63916015625, 1509.1898193359375, 568.5448608398438, 92.01161193847656, 820.2837524414062, 181.48471069335938, 335.2016906738281, 293.5022277832031, 324.4611511230469, 532.8268432617188, 537.8900756835938, 435.1590881347656, 174.48779296875, 122.2114486694336, 95.1505355834961, 93.70124053955078, 50.44206237792969, 48.47446060180664, 50.24797821044922, 30.24022102355957, 27.308712005615234, 25.39862632751465, 22.698606491088867, 20.28510093688965, 19.502849578857422, 21.398927688598633, 19.179840087890625, 19.21099281311035, 17.123414993286133, 21.67523765563965, 17.090377807617188, 15.762138366699219, 13.774118423461914, 17.18820571899414, 14.871283531188965, 13.902205467224121, 13.303328514099121, 12.91030502319336, 10.802114486694336, 10.561448097229004, 12.364042282104492, 11.145283699035645, 57.59404754638672, 20.06410026550293, 324.4611511230469, 81.05476379394531, 403.64801025390625, 208.8813934326172, 308.19146728515625], \"Category\": [\"Default\", \"Default\", \"Default\", \"Default\", \"Default\", \"Default\", \"Default\", \"Default\", \"Default\", \"Default\", \"Default\", \"Default\", \"Default\", \"Default\", \"Default\", \"Default\", \"Default\", \"Default\", \"Default\", \"Default\", \"Default\", \"Default\", \"Default\", \"Default\", \"Default\", \"Default\", \"Default\", \"Default\", \"Default\", \"Default\", \"Topic1\", \"Topic1\", \"Topic1\", \"Topic1\", \"Topic1\", \"Topic1\", \"Topic1\", \"Topic1\", \"Topic1\", \"Topic1\", \"Topic1\", \"Topic1\", \"Topic1\", \"Topic1\", \"Topic1\", \"Topic1\", \"Topic1\", \"Topic1\", \"Topic1\", \"Topic1\", \"Topic1\", \"Topic1\", \"Topic1\", \"Topic1\", \"Topic1\", \"Topic1\", \"Topic1\", \"Topic1\", \"Topic1\", \"Topic1\", \"Topic1\", \"Topic1\", \"Topic1\", \"Topic1\", \"Topic1\", \"Topic1\", \"Topic1\", \"Topic1\", \"Topic1\", \"Topic1\", \"Topic2\", \"Topic2\", \"Topic2\", \"Topic2\", \"Topic2\", \"Topic2\", \"Topic2\", \"Topic2\", \"Topic2\", \"Topic2\", \"Topic2\", \"Topic2\", \"Topic2\", \"Topic2\", \"Topic2\", \"Topic2\", \"Topic2\", \"Topic2\", \"Topic2\", \"Topic2\", \"Topic2\", \"Topic2\", \"Topic2\", \"Topic2\", \"Topic2\", \"Topic2\", \"Topic2\", \"Topic2\", \"Topic2\", \"Topic2\", \"Topic2\", \"Topic2\", \"Topic2\", \"Topic2\", \"Topic2\", \"Topic2\", \"Topic2\", \"Topic2\", \"Topic2\", \"Topic2\", \"Topic2\", \"Topic2\", \"Topic2\", \"Topic2\", \"Topic2\", \"Topic2\", \"Topic3\", \"Topic3\", \"Topic3\", \"Topic3\", \"Topic3\", \"Topic3\", \"Topic3\", \"Topic3\", \"Topic3\", \"Topic3\", \"Topic3\", \"Topic3\", \"Topic3\", \"Topic3\", \"Topic3\", \"Topic3\", \"Topic3\", \"Topic3\", \"Topic3\", \"Topic3\", \"Topic3\", \"Topic3\", \"Topic3\", \"Topic3\", \"Topic3\", \"Topic3\", \"Topic3\", \"Topic3\", \"Topic3\", \"Topic3\", \"Topic3\", \"Topic3\", \"Topic3\", \"Topic3\", \"Topic3\", \"Topic3\", \"Topic3\", \"Topic3\", \"Topic3\"], \"logprob\": [30.0, 29.0, 28.0, 27.0, 26.0, 25.0, 24.0, 23.0, 22.0, 21.0, 20.0, 19.0, 18.0, 17.0, 16.0, 15.0, 14.0, 13.0, 12.0, 11.0, 10.0, 9.0, 8.0, 7.0, 6.0, 5.0, 4.0, 3.0, 2.0, 1.0, -4.385000228881836, -4.43209981918335, -4.398900032043457, -4.69980001449585, -4.7631001472473145, -4.902299880981445, -4.947299957275391, -4.8597002029418945, -4.964799880981445, -5.090099811553955, -5.0954999923706055, -5.131400108337402, -5.1529998779296875, -5.345099925994873, -5.314000129699707, -5.422999858856201, -5.49370002746582, -5.256899833679199, -5.512599945068359, -5.5335001945495605, -5.554599761962891, -5.554500102996826, -5.566199779510498, -5.54449987411499, -5.654399871826172, -5.685999870300293, -5.649799823760986, -5.730800151824951, -5.690499782562256, -5.767600059509277, -5.39739990234375, -5.140500068664551, -2.9488000869750977, -5.385000228881836, -4.927800178527832, -4.660299777984619, -4.250899791717529, -5.34499979019165, -5.355899810791016, -5.175099849700928, -2.0980000495910645, -2.7167000770568848, -3.0027999877929688, -3.0804998874664307, -4.108399868011475, -4.76230001449585, -5.055300235748291, -5.253600120544434, -5.331299781799316, -5.314199924468994, -5.623199939727783, -5.681700229644775, -5.526299953460693, -5.62470006942749, -5.675099849700928, -5.672800064086914, -5.707900047302246, -5.838099956512451, -5.730100154876709, -5.6057000160217285, -6.003300189971924, -5.986700057983398, -6.071599960327148, -6.122799873352051, -5.826900005340576, -6.13670015335083, -6.090799808502197, -6.388700008392334, -6.387400150299072, -6.441699981689453, -6.131100177764893, -6.238999843597412, -5.676799774169922, -5.339200019836426, -5.232999801635742, -5.3917999267578125, -2.515500068664551, -3.554800033569336, -4.614999771118164, -5.706999778747559, -4.567200183868408, -5.456399917602539, -5.344600200653076, -5.560400009155273, -5.672299861907959, -5.666299819946289, -2.772900104522705, -2.9856998920440674, -3.90120005607605, -4.258699893951416, -4.51039981842041, -4.525899887084961, -5.150300025939941, -5.190899848937988, -5.156099796295166, -5.670899868011475, -5.773399829864502, -5.848100185394287, -5.962699890136719, -6.078800201416016, -6.118500232696533, -6.026199817657471, -6.136600017547607, -6.136000156402588, -6.252799987792969, -6.017399787902832, -6.25600004196167, -6.342899799346924, -6.479899883270264, -6.258699893951416, -6.4054999351501465, -6.4730000495910645, -6.518199920654297, -6.549499988555908, -6.734399795532227, -6.760499954223633, -6.604599952697754, -6.709799766540527, -5.682700157165527, -6.354599952697754, -5.21589994430542, -6.024400234222412, -5.595600128173828, -5.879700183868408, -6.330900192260742], \"loglift\": [30.0, 29.0, 28.0, 27.0, 26.0, 25.0, 24.0, 23.0, 22.0, 21.0, 20.0, 19.0, 18.0, 17.0, 16.0, 15.0, 14.0, 13.0, 12.0, 11.0, 10.0, 9.0, 8.0, 7.0, 6.0, 5.0, 4.0, 3.0, 2.0, 1.0, 0.3840999901294708, 0.3840999901294708, 0.3840000033378601, 0.383899986743927, 0.3837999999523163, 0.38370001316070557, 0.38370001316070557, 0.38359999656677246, 0.38359999656677246, 0.38350000977516174, 0.38339999318122864, 0.38339999318122864, 0.38339999318122864, 0.3831000030040741, 0.3828999996185303, 0.3828999996185303, 0.38280001282691956, 0.38280001282691956, 0.38269999623298645, 0.38269999623298645, 0.38269999623298645, 0.38269999623298645, 0.38260000944137573, 0.3824999928474426, 0.3824000060558319, 0.3824000060558319, 0.3822999894618988, 0.3822999894618988, 0.3822000026702881, 0.3822000026702881, 0.3790000081062317, 0.30140000581741333, -0.030500000342726707, 0.32670000195503235, 0.23639999330043793, 0.07240000367164612, -0.12780000269412994, 0.21879999339580536, 0.210999995470047, -0.07580000162124634, 1.4819999933242798, 1.4818999767303467, 1.4816999435424805, 1.4816999435424805, 1.4807000160217285, 1.4794000387191772, 1.4779000282287598, 1.4773000478744507, 1.4769999980926514, 1.476099967956543, 1.4753999710083008, 1.475100040435791, 1.475000023841858, 1.475000023841858, 1.4747999906539917, 1.4745999574661255, 1.4744999408721924, 1.4739999771118164, 1.4737999439239502, 1.4729000329971313, 1.4718999862670898, 1.4717999696731567, 1.4717999696731567, 1.4713000059127808, 1.4708000421524048, 1.469499945640564, 1.468999981880188, 1.4678000211715698, 1.4673999547958374, 1.4672000408172607, 1.4671000242233276, 1.4668999910354614, 1.4592000246047974, 1.4180999994277954, 1.3645999431610107, 1.3309999704360962, 0.4027999937534332, 0.5681999921798706, 0.4844000041484833, 1.2135000228881836, 0.1656000018119812, 0.7847999930381775, 0.28299999237060547, 0.20010000467300415, -0.01209999993443489, -0.5020999908447266, 2.3817999362945557, 2.38100004196167, 2.379300117492676, 2.378000020980835, 2.376499891281128, 2.3763999938964844, 2.371299982070923, 2.3703999519348145, 2.3694000244140625, 2.362299919128418, 2.3617000579833984, 2.359600067138672, 2.3573999404907227, 2.3536999225616455, 2.353300094604492, 2.352799892425537, 2.351900100708008, 2.3508999347686768, 2.349100112915039, 2.34879994392395, 2.347899913787842, 2.341900110244751, 2.3396999835968018, 2.3394999504089355, 2.3375000953674316, 2.3373000621795654, 2.336199998855591, 2.33489990234375, 2.328200101852417, 2.3245999813079834, 2.322999954223633, 2.3215999603271484, 1.7062000036239624, 2.088900089263916, 0.44429999589920044, 1.0228999853134155, -0.15379999577999115, 0.22089999914169312, -0.6191999912261963]}, \"token.table\": {\"Topic\": [3, 3, 3, 1, 1, 3, 3, 1, 1, 2, 1, 2, 2, 3, 1, 2, 1, 1, 2, 3, 2, 1, 2, 1, 2, 2, 1, 2, 3, 1, 2, 3, 2, 3, 2, 1, 2, 2, 1, 1, 2, 1, 1, 3, 3, 2, 3, 3, 3, 3, 3, 2, 2, 3, 2, 3, 1, 2, 3, 2, 1, 2, 1, 3, 3, 1, 3, 1, 2, 1, 2, 3, 2, 1, 2, 2, 1, 1, 1, 2, 3, 1, 1, 2, 3, 3, 2, 1, 2, 3, 3, 2, 1, 1, 3, 1, 3, 1, 2, 1, 3, 2, 1, 1, 1, 2, 2, 1, 1, 2, 1, 1, 2, 2, 2, 1, 1, 2, 1, 1, 2, 3, 1, 2, 3, 1, 1, 3, 1, 3, 3, 1, 2, 3, 1, 2, 2, 2, 2, 2, 3, 1, 2, 1, 3, 3, 2, 3, 2], \"Freq\": [0.9927926063537598, 0.988695502281189, 0.9351034164428711, 0.9968629479408264, 0.9986051321029663, 0.9692224860191345, 0.9742165803909302, 0.9998335838317871, 0.839384913444519, 0.1600165218114853, 0.11017466336488724, 0.8892669081687927, 0.0022980100475251675, 0.9973363876342773, 0.22823205590248108, 0.7607735395431519, 0.9960628151893616, 0.8617330193519592, 0.023937029764056206, 0.11489774286746979, 0.9840875864028931, 0.9993804097175598, 0.9772745966911316, 0.1427050232887268, 0.8562301993370056, 0.9968281388282776, 0.9442182183265686, 0.006489472463726997, 0.048671040683984756, 0.7279029488563538, 0.0123373381793499, 0.2590841054916382, 0.998065173625946, 0.9859452843666077, 0.9870235323905945, 0.9971375465393066, 0.9897876977920532, 0.9979726076126099, 0.9963088631629944, 0.013481572270393372, 0.9706732034683228, 0.9994708895683289, 0.9191176295280457, 0.07927699387073517, 0.9906234741210938, 0.9978712797164917, 0.9912362098693848, 0.9468398690223694, 0.9925162196159363, 0.9437990784645081, 0.9257446527481079, 0.9909915924072266, 0.9887337684631348, 0.9308708906173706, 0.9954447746276855, 0.99826979637146, 0.9991810917854309, 0.9845619201660156, 0.9947117567062378, 0.9989053606987, 0.9974976181983948, 0.999198853969574, 0.999212920665741, 0.9813575744628906, 0.9890170693397522, 0.9992349743843079, 0.9771990776062012, 0.5014196634292603, 0.49590954184532166, 0.009231890551745892, 0.9416528344154358, 0.0553913414478302, 0.9996529817581177, 0.7314541935920715, 0.2681998610496521, 0.9864442348480225, 0.9995172619819641, 0.9977831840515137, 0.8479951024055481, 0.12593986093997955, 0.02518797293305397, 0.999356746673584, 0.7223113775253296, 0.2759774625301361, 0.0034071290865540504, 0.984305202960968, 0.9911245703697205, 0.6314365267753601, 0.3693639934062958, 0.9984179139137268, 0.9972044229507446, 0.9806106686592102, 0.9982960820198059, 0.9981144666671753, 0.970556378364563, 0.9961577653884888, 0.8972405195236206, 0.660226047039032, 0.33984559774398804, 0.9986053705215454, 0.9920562505722046, 0.9976857304573059, 0.9975662231445312, 0.9956576228141785, 0.9934626817703247, 0.0034615425392985344, 0.9923505187034607, 0.9984800219535828, 0.5989968776702881, 0.40087732672691345, 0.9998324513435364, 0.6980871558189392, 0.3013111352920532, 0.9956528544425964, 0.996077299118042, 0.9995537996292114, 0.8614431023597717, 0.13700510561466217, 0.9993587136268616, 0.012729726731777191, 0.9929186701774597, 0.9688475131988525, 0.9966235756874084, 0.9825595021247864, 0.9414116740226746, 0.9980897307395935, 0.24920131266117096, 0.7476038932800293, 0.48616135120391846, 0.5035242438316345, 0.9983452558517456, 0.6318168044090271, 0.2249884158372879, 0.1448555588722229, 0.9987787008285522, 0.9997009634971619, 0.9959731101989746, 0.9996538162231445, 0.9924662113189697, 0.9881249070167542, 0.9516475200653076, 0.9994671940803528, 0.9886631369590759, 0.9997732639312744, 0.995064914226532, 0.9902121424674988, 0.9927971959114075, 0.9294900298118591, 0.9928438067436218], \"Term\": [\"and\", \"good\", \"it\", \"meizu\", \"root\", \"super\", \"the\", \"\\u0430\\u043d\\u0442\\u0438\\u0432\\u0438\\u0440\\u0443\\u0441\", \"\\u0431\\u0430\\u043d\\u043a\", \"\\u0431\\u0430\\u043d\\u043a\", \"\\u0431\\u043e\\u043b\\u044c\\u0448\\u043e\\u0439\", \"\\u0431\\u043e\\u043b\\u044c\\u0448\\u043e\\u0439\", \"\\u0431\\u044b\\u0441\\u0442\\u0440\\u043e\", \"\\u0431\\u044b\\u0441\\u0442\\u0440\\u043e\", \"\\u0431\\u044b\\u0441\\u0442\\u0440\\u044b\\u0439\", \"\\u0431\\u044b\\u0441\\u0442\\u0440\\u044b\\u0439\", \"\\u0432\\u0432\\u043e\\u0434\\u0438\\u0442\\u044c\", \"\\u0432\\u043e\\u0437\\u043c\\u043e\\u0436\\u043d\\u043e\\u0441\\u0442\\u044c\", \"\\u0432\\u043e\\u0437\\u043c\\u043e\\u0436\\u043d\\u043e\\u0441\\u0442\\u044c\", \"\\u0432\\u043e\\u0437\\u043c\\u043e\\u0436\\u043d\\u043e\\u0441\\u0442\\u044c\", \"\\u0432\\u043f\\u043e\\u043b\\u043d\\u0435\", \"\\u0432\\u0445\\u043e\\u0434\", \"\\u0432\\u044b\\u0440\\u0443\\u0447\\u0430\\u0442\\u044c\", \"\\u0432\\u044b\\u0445\\u043e\\u0434\\u0438\\u0442\\u044c\", \"\\u0432\\u044b\\u0445\\u043e\\u0434\\u0438\\u0442\\u044c\", \"\\u0433\\u0443\\u0434\", \"\\u0434\\u0435\\u043d\\u044c\\u0433\\u0430\", \"\\u0434\\u0435\\u043d\\u044c\\u0433\\u0430\", \"\\u0434\\u0435\\u043d\\u044c\\u0433\\u0430\", \"\\u0434\\u043e\\u0431\\u0430\\u0432\\u0438\\u0442\\u044c\", \"\\u0434\\u043e\\u0431\\u0430\\u0432\\u0438\\u0442\\u044c\", \"\\u0434\\u043e\\u0431\\u0430\\u0432\\u0438\\u0442\\u044c\", \"\\u0434\\u043e\\u043c\", \"\\u0434\\u043e\\u0441\\u0440\\u043e\\u0447\\u043d\\u044b\\u0439\", \"\\u0434\\u043e\\u0441\\u0442\\u0443\\u043f\\u043d\\u043e\", \"\\u0437\\u0430\\u0439\\u0442\\u0438\", \"\\u0437\\u0430\\u043c\\u0435\\u0447\\u0430\\u0442\\u0435\\u043b\\u044c\\u043d\\u044b\\u0439\", \"\\u0438\\u043d\\u0442\\u0435\\u0440\\u0444\\u0435\\u0439\\u0441\", \"\\u0438\\u043d\\u044f\", \"\\u0438\\u0441\\u043f\\u043e\\u043b\\u044c\\u0437\\u043e\\u0432\\u0430\\u043d\\u0438\\u0435\", \"\\u0438\\u0441\\u043f\\u043e\\u043b\\u044c\\u0437\\u043e\\u0432\\u0430\\u043d\\u0438\\u0435\", \"\\u0438\\u0441\\u043f\\u0440\\u0430\\u0432\\u0438\\u0442\\u044c\", \"\\u043a\\u0430\\u0440\\u0442\\u0430\", \"\\u043a\\u0430\\u0440\\u0442\\u0430\", \"\\u043a\\u0430\\u0447\\u0435\\u0441\\u0442\\u0432\\u0435\\u043d\\u043d\\u043e\", \"\\u043a\\u043b\\u0430\\u0441\\u0441\", \"\\u043a\\u043b\\u0430\\u0441\\u0441\\u043d\\u043e\", \"\\u043a\\u043e\\u0448\\u0435\\u043b\\u0451\\u043a\", \"\\u043a\\u0440\\u0435\\u0434\\u0438\\u0442\", \"\\u043a\\u0440\\u0435\\u0434\\u0438\\u0442\\u043d\\u044b\\u0439\", \"\\u043a\\u0440\\u0443\\u0442\\u044c\", \"\\u043b\\u0435\\u0433\\u043a\\u043e\", \"\\u043b\\u0438\\u0448\\u043d\\u0438\\u0439\", \"\\u043b\\u044e\\u0431\\u0430\", \"\\u043b\\u044e\\u0431\\u043e\\u0439\", \"\\u043c\\u043e\\u043b\\u043e\\u0434\\u0435\\u0446\", \"\\u043c\\u043e\\u0447\\u044c\", \"\\u043d\\u0430\\u0434\\u0451\\u0436\\u043d\\u043e\", \"\\u043d\\u0435\\u043f\\u043b\\u043e\\u0445\\u043e\", \"\\u043d\\u043e\\u0440\\u043c\\u0430\", \"\\u043d\\u043e\\u0440\\u043c\\u0430\\u043b\\u044c\\u043d\\u044b\\u0439\", \"\\u043d\\u0440\\u0430\\u0432\\u0438\\u0442\\u044c\\u0441\\u044f\", \"\\u043e\\u0431\\u043d\\u043e\\u0432\\u043b\\u0435\\u043d\\u0438\\u0435\", \"\\u043e\\u0431\\u0441\\u043b\\u0443\\u0436\\u0438\\u0432\\u0430\\u043d\\u0438\\u0435\", \"\\u043e\\u0433\\u043e\\u043d\\u044c\", \"\\u043e\\u043a\", \"\\u043e\\u043a\\u0435\\u0439\", \"\\u043e\\u043f\\u043b\\u0430\\u0442\\u0430\", \"\\u043e\\u043f\\u043b\\u0430\\u0442\\u0430\", \"\\u043e\\u043f\\u043b\\u0430\\u0447\\u0438\\u0432\\u0430\\u0442\\u044c\", \"\\u043e\\u043f\\u043b\\u0430\\u0447\\u0438\\u0432\\u0430\\u0442\\u044c\", \"\\u043e\\u043f\\u043b\\u0430\\u0447\\u0438\\u0432\\u0430\\u0442\\u044c\", \"\\u043e\\u0442\\u043b\\u0438\\u0447\\u043d\\u043e\", \"\\u043e\\u0442\\u043b\\u0438\\u0447\\u043d\\u044b\\u0439\", \"\\u043e\\u0442\\u043b\\u0438\\u0447\\u043d\\u044b\\u0439\", \"\\u043e\\u0447\\u0435\\u0440\\u0435\\u0434\\u044c\", \"\\u043e\\u0448\\u0438\\u0431\\u043a\\u0430\", \"\\u043f\\u0430\\u0440\\u043e\\u043b\\u044c\", \"\\u043f\\u0435\\u0440\\u0435\\u0432\\u043e\\u0434\", \"\\u043f\\u0435\\u0440\\u0435\\u0432\\u043e\\u0434\", \"\\u043f\\u0435\\u0440\\u0435\\u0432\\u043e\\u0434\", \"\\u043f\\u0438\\u0441\\u0430\\u0442\\u044c\", \"\\u043f\\u043b\\u0430\\u0442\\u0451\\u0436\", \"\\u043f\\u043b\\u0430\\u0442\\u0451\\u0436\", \"\\u043f\\u043b\\u0430\\u0442\\u0451\\u0436\", \"\\u043f\\u043e\\u0433\\u0430\\u0448\\u0435\\u043d\\u0438\\u0435\", \"\\u043f\\u043e\\u043b\\u0435\\u0437\\u043d\\u044b\\u0439\", \"\\u043f\\u043e\\u043b\\u044c\\u0437\\u043e\\u0432\\u0430\\u0442\\u044c\\u0441\\u044f\", \"\\u043f\\u043e\\u043b\\u044c\\u0437\\u043e\\u0432\\u0430\\u0442\\u044c\\u0441\\u044f\", \"\\u043f\\u043e\\u043d\\u0440\\u0430\\u0432\\u0438\\u0442\\u044c\\u0441\\u044f\", \"\\u043f\\u043e\\u043d\\u044f\\u0442\\u043d\\u043e\", \"\\u043f\\u043e\\u043d\\u044f\\u0442\\u043d\\u044b\\u0439\", \"\\u043f\\u043e\\u0441\\u043b\\u0435\\u0434\\u043d\\u0438\\u0439\", \"\\u043f\\u043e\\u0441\\u0442\\u043e\\u044f\\u043d\\u043d\\u043e\", \"\\u043f\\u043e\\u0441\\u0442\\u0443\\u043f\\u043b\\u0435\\u043d\\u0438\\u0435\", \"\\u043f\\u0440\\u0430\\u0432\\u043e\", \"\\u043f\\u0440\\u0438\\u0434\\u0443\\u043c\\u0430\\u0442\\u044c\", \"\\u043f\\u0440\\u0438\\u043b\\u043e\\u0436\\u0435\\u043d\\u0438\\u0435\", \"\\u043f\\u0440\\u0438\\u043b\\u043e\\u0436\\u0435\\u043d\\u0438\\u0435\", \"\\u043f\\u0440\\u0438\\u0445\\u043e\\u0434\\u0438\\u0442\\u044c\\u0441\\u044f\", \"\\u043f\\u0440\\u0438\\u044f\\u0442\\u043d\\u043e\", \"\\u043f\\u0440\\u0438\\u044f\\u0442\\u043d\\u044b\\u0439\", \"\\u043f\\u0440\\u043e\\u0431\\u043b\\u0435\\u043c\\u0430\", \"\\u043f\\u0440\\u043e\\u0432\\u0435\\u0440\\u043a\\u0430\", \"\\u043f\\u0440\\u043e\\u0433\\u0440\\u0430\\u043c\\u043c\\u0430\", \"\\u043f\\u0440\\u043e\\u0433\\u0440\\u0430\\u043c\\u043c\\u0430\", \"\\u043f\\u0440\\u043e\\u0441\\u0442\\u043e\\u0439\", \"\\u043f\\u0440\\u043e\\u0448\\u0438\\u0432\\u043a\\u0430\", \"\\u0440\\u0430\\u0431\\u043e\\u0442\\u0430\\u0442\\u044c\", \"\\u0440\\u0430\\u0431\\u043e\\u0442\\u0430\\u0442\\u044c\", \"\\u0440\\u0430\\u0437\", \"\\u0440\\u0430\\u0437\\u0440\\u0430\\u0431\\u043e\\u0442\\u0447\\u0438\\u043a\", \"\\u0440\\u0430\\u0437\\u0440\\u0430\\u0431\\u043e\\u0442\\u0447\\u0438\\u043a\", \"\\u0440\\u0435\\u043a\\u043e\\u043c\\u0435\\u043d\\u0434\\u043e\\u0432\\u0430\\u0442\\u044c\", \"\\u0440\\u0443\\u043a\\u0430\", \"\\u0440\\u0443\\u0442\\u0430\", \"\\u0441\\u0431\\u0435\\u0440\\u0431\\u0430\\u043d\\u043a\", \"\\u0441\\u0431\\u0435\\u0440\\u0431\\u0430\\u043d\\u043a\", \"\\u0441\\u0434\\u0435\\u043b\\u0430\\u0442\\u044c\", \"\\u0441\\u0435\\u0440\\u0432\\u0438\\u0441\", \"\\u0441\\u0435\\u0440\\u0432\\u0438\\u0441\", \"\\u0441\\u043b\\u0435\\u0434\\u0438\\u0442\\u044c\", \"\\u0441\\u043c\\u0441\", \"\\u0441\\u043e\\u0432\\u0435\\u0442\\u043e\\u0432\\u0430\\u0442\\u044c\", \"\\u0441\\u043e\\u0441\\u0442\\u043e\\u044f\\u043d\\u0438\\u0435\", \"\\u0441\\u0442\\u0430\\u0442\\u044c\", \"\\u0441\\u0442\\u0440\\u0430\\u043d\\u0430\", \"\\u0441\\u0442\\u0440\\u0430\\u043d\\u0430\", \"\\u0441\\u0443\\u043c\\u043c\\u0430\", \"\\u0441\\u0443\\u043c\\u043c\\u0430\", \"\\u0441\\u0443\\u043f\\u0435\\u0440\", \"\\u0441\\u0447\\u0451\\u0442\", \"\\u0441\\u0447\\u0451\\u0442\", \"\\u0441\\u0447\\u0451\\u0442\", \"\\u0442\\u0435\\u043b\\u0435\\u0444\\u043e\\u043d\", \"\\u0443\\u0434\\u043e\\u0431\\u043d\\u043e\", \"\\u0443\\u0434\\u043e\\u0431\\u043d\\u043e\\u043d\\u0430\", \"\\u0443\\u0434\\u043e\\u0431\\u043d\\u044b\\u0439\", \"\\u0443\\u043f\\u0440\\u0430\\u0432\\u043b\\u0435\\u043d\\u0438\\u0435\", \"\\u0443\\u043f\\u0440\\u0430\\u0432\\u043b\\u044f\\u0442\\u044c\", \"\\u0443\\u0440\\u0430\", \"\\u0443\\u0441\\u0442\\u0440\\u0430\\u0438\\u0432\\u0430\\u0442\\u044c\", \"\\u0444\\u0438\\u043d\\u0430\\u043d\\u0441\\u044b\", \"\\u0445\\u043e\\u0440\\u043e\\u0448\\u0438\\u0439\", \"\\u0445\\u043e\\u0442\\u0435\\u0442\\u044c\\u0441\\u044f\", \"\\u0447\\u0451\\u0442\\u043a\\u043e\", \"\\u044d\\u043a\\u043e\\u043d\\u043e\\u043c\\u0438\\u0442\\u044c\", \"\\u044f\\u0441\\u043d\\u043e\", \"\\ud83d\\udc4d\"]}, \"R\": 30, \"lambda.step\": 0.01, \"plot.opts\": {\"xlab\": \"PC1\", \"ylab\": \"PC2\"}, \"topic.order\": [1, 3, 2]};\n",
       "\n",
       "function LDAvis_load_lib(url, callback){\n",
       "  var s = document.createElement('script');\n",
       "  s.src = url;\n",
       "  s.async = true;\n",
       "  s.onreadystatechange = s.onload = callback;\n",
       "  s.onerror = function(){console.warn(\"failed to load library \" + url);};\n",
       "  document.getElementsByTagName(\"head\")[0].appendChild(s);\n",
       "}\n",
       "\n",
       "if(typeof(LDAvis) !== \"undefined\"){\n",
       "   // already loaded: just create the visualization\n",
       "   !function(LDAvis){\n",
       "       new LDAvis(\"#\" + \"ldavis_el27621399479429897129953060472\", ldavis_el27621399479429897129953060472_data);\n",
       "   }(LDAvis);\n",
       "}else if(typeof define === \"function\" && define.amd){\n",
       "   // require.js is available: use it to load d3/LDAvis\n",
       "   require.config({paths: {d3: \"https://cdnjs.cloudflare.com/ajax/libs/d3/3.5.5/d3.min\"}});\n",
       "   require([\"d3\"], function(d3){\n",
       "      window.d3 = d3;\n",
       "      LDAvis_load_lib(\"https://cdn.rawgit.com/bmabey/pyLDAvis/files/ldavis.v1.0.0.js\", function(){\n",
       "        new LDAvis(\"#\" + \"ldavis_el27621399479429897129953060472\", ldavis_el27621399479429897129953060472_data);\n",
       "      });\n",
       "    });\n",
       "}else{\n",
       "    // require.js not available: dynamically load d3 & LDAvis\n",
       "    LDAvis_load_lib(\"https://cdnjs.cloudflare.com/ajax/libs/d3/3.5.5/d3.min.js\", function(){\n",
       "         LDAvis_load_lib(\"https://cdn.rawgit.com/bmabey/pyLDAvis/files/ldavis.v1.0.0.js\", function(){\n",
       "                 new LDAvis(\"#\" + \"ldavis_el27621399479429897129953060472\", ldavis_el27621399479429897129953060472_data);\n",
       "            })\n",
       "         });\n",
       "}\n",
       "</script>"
      ],
      "text/plain": [
       "<IPython.core.display.HTML object>"
      ]
     },
     "execution_count": 93,
     "metadata": {},
     "output_type": "execute_result"
    }
   ],
   "source": [
    "pyLDAvis.display(LDAvis_prepared)"
   ]
  }
 ],
 "metadata": {
  "kernelspec": {
   "display_name": "Python 3",
   "language": "python",
   "name": "python3"
  },
  "language_info": {
   "codemirror_mode": {
    "name": "ipython",
    "version": 3
   },
   "file_extension": ".py",
   "mimetype": "text/x-python",
   "name": "python",
   "nbconvert_exporter": "python",
   "pygments_lexer": "ipython3",
   "version": "3.8.2"
  }
 },
 "nbformat": 4,
 "nbformat_minor": 4
}
